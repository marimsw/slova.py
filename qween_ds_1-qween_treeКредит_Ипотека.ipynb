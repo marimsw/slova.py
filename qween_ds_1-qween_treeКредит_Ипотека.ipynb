{
 "cells": [
  {
   "cell_type": "code",
   "execution_count": 38,
   "metadata": {},
   "outputs": [
    {
     "data": {
      "text/html": [
       "<div>\n",
       "<style scoped>\n",
       "    .dataframe tbody tr th:only-of-type {\n",
       "        vertical-align: middle;\n",
       "    }\n",
       "\n",
       "    .dataframe tbody tr th {\n",
       "        vertical-align: top;\n",
       "    }\n",
       "\n",
       "    .dataframe thead th {\n",
       "        text-align: right;\n",
       "    }\n",
       "</style>\n",
       "<table border=\"1\" class=\"dataframe\">\n",
       "  <thead>\n",
       "    <tr style=\"text-align: right;\">\n",
       "      <th></th>\n",
       "      <th>file_name</th>\n",
       "      <th>categories</th>\n",
       "      <th>texts</th>\n",
       "    </tr>\n",
       "  </thead>\n",
       "  <tbody>\n",
       "    <tr>\n",
       "      <th>0</th>\n",
       "      <td>e6f22245ae1048c98e292c829b9ef12a.jpg</td>\n",
       "      <td>05.07 QR-код / адрес сайта,24.03 Лекарственные...</td>\n",
       "      <td>Реклама лекарственных средств, Реклама медици...</td>\n",
       "    </tr>\n",
       "    <tr>\n",
       "      <th>1</th>\n",
       "      <td>baebf04a69874393837cccb862ee9dd0.jpg</td>\n",
       "      <td>24.03 Лекарственные препараты,24.06 МедОрганиз...</td>\n",
       "      <td>Реклама лекарственных средств, Реклама медици...</td>\n",
       "    </tr>\n",
       "    <tr>\n",
       "      <th>2</th>\n",
       "      <td>bfbd14b99e4c4a24aafe908c4bf5cd6f.jpg</td>\n",
       "      <td>28.07 Строительство (ДДУ),28.08 Застройщик</td>\n",
       "      <td>Реклама недвижимости, Реклама услуг по строит...</td>\n",
       "    </tr>\n",
       "    <tr>\n",
       "      <th>3</th>\n",
       "      <td>71252cd88c014113b44d2d911e1aee55.jpg</td>\n",
       "      <td>01.01 Прочая реклама,05.03 Информационная прод...</td>\n",
       "      <td>Реклама телевизионного сериала, Реклама телев...</td>\n",
       "    </tr>\n",
       "    <tr>\n",
       "      <th>4</th>\n",
       "      <td>96257d02e86446b1817b255f9554e0e1.jpg</td>\n",
       "      <td>01.01 Прочая реклама,05.03 Информационная прод...</td>\n",
       "      <td>Реклама телевизионного канала, Реклама телеви...</td>\n",
       "    </tr>\n",
       "    <tr>\n",
       "      <th>...</th>\n",
       "      <td>...</td>\n",
       "      <td>...</td>\n",
       "      <td>...</td>\n",
       "    </tr>\n",
       "    <tr>\n",
       "      <th>17629</th>\n",
       "      <td>6ea60afc76e24cd2b3b95608e2427628.png</td>\n",
       "      <td>10.01 Социальная реклама</td>\n",
       "      <td>Реклама товаров, работ, услуг, Реклама событи...</td>\n",
       "    </tr>\n",
       "    <tr>\n",
       "      <th>17630</th>\n",
       "      <td>eabd1fa824df4e30b28bf312495ceded.jpg</td>\n",
       "      <td>28.07 Строительство(ДДУ),28.08 Застройщик,28.1...</td>\n",
       "      <td>Реклама недвижимости, Реклама ипотеки, Реклам...</td>\n",
       "    </tr>\n",
       "    <tr>\n",
       "      <th>17631</th>\n",
       "      <td>fa32ca9aca5745f58943580d19ffa20e.jpg</td>\n",
       "      <td>02.04 Объявление о продаже</td>\n",
       "      <td>Телекоммуникации, Техника для дома, Электроника</td>\n",
       "    </tr>\n",
       "    <tr>\n",
       "      <th>17632</th>\n",
       "      <td>a8fdedf775ab4c48a7980720ebdcbf05.jpg</td>\n",
       "      <td>05.03 Информационная продукция,08.01 Дистанцио...</td>\n",
       "      <td>Реклама культурных мероприятий, Реклама спект...</td>\n",
       "    </tr>\n",
       "    <tr>\n",
       "      <th>17633</th>\n",
       "      <td>6a0be9e07c4f434ab56b37f37b01b628.jpeg</td>\n",
       "      <td>05.03 Информационная продукция,05.05 Физическо...</td>\n",
       "      <td>Реклама концертов и мероприятий, Реклама биле...</td>\n",
       "    </tr>\n",
       "  </tbody>\n",
       "</table>\n",
       "<p>17634 rows × 3 columns</p>\n",
       "</div>"
      ],
      "text/plain": [
       "                                   file_name  \\\n",
       "0       e6f22245ae1048c98e292c829b9ef12a.jpg   \n",
       "1       baebf04a69874393837cccb862ee9dd0.jpg   \n",
       "2       bfbd14b99e4c4a24aafe908c4bf5cd6f.jpg   \n",
       "3       71252cd88c014113b44d2d911e1aee55.jpg   \n",
       "4       96257d02e86446b1817b255f9554e0e1.jpg   \n",
       "...                                      ...   \n",
       "17629   6ea60afc76e24cd2b3b95608e2427628.png   \n",
       "17630   eabd1fa824df4e30b28bf312495ceded.jpg   \n",
       "17631   fa32ca9aca5745f58943580d19ffa20e.jpg   \n",
       "17632   a8fdedf775ab4c48a7980720ebdcbf05.jpg   \n",
       "17633  6a0be9e07c4f434ab56b37f37b01b628.jpeg   \n",
       "\n",
       "                                              categories  \\\n",
       "0      05.07 QR-код / адрес сайта,24.03 Лекарственные...   \n",
       "1      24.03 Лекарственные препараты,24.06 МедОрганиз...   \n",
       "2             28.07 Строительство (ДДУ),28.08 Застройщик   \n",
       "3      01.01 Прочая реклама,05.03 Информационная прод...   \n",
       "4      01.01 Прочая реклама,05.03 Информационная прод...   \n",
       "...                                                  ...   \n",
       "17629                           10.01 Социальная реклама   \n",
       "17630  28.07 Строительство(ДДУ),28.08 Застройщик,28.1...   \n",
       "17631                         02.04 Объявление о продаже   \n",
       "17632  05.03 Информационная продукция,08.01 Дистанцио...   \n",
       "17633  05.03 Информационная продукция,05.05 Физическо...   \n",
       "\n",
       "                                                   texts  \n",
       "0       Реклама лекарственных средств, Реклама медици...  \n",
       "1       Реклама лекарственных средств, Реклама медици...  \n",
       "2       Реклама недвижимости, Реклама услуг по строит...  \n",
       "3       Реклама телевизионного сериала, Реклама телев...  \n",
       "4       Реклама телевизионного канала, Реклама телеви...  \n",
       "...                                                  ...  \n",
       "17629   Реклама товаров, работ, услуг, Реклама событи...  \n",
       "17630   Реклама недвижимости, Реклама ипотеки, Реклам...  \n",
       "17631    Телекоммуникации, Техника для дома, Электроника  \n",
       "17632   Реклама культурных мероприятий, Реклама спект...  \n",
       "17633   Реклама концертов и мероприятий, Реклама биле...  \n",
       "\n",
       "[17634 rows x 3 columns]"
      ]
     },
     "execution_count": 38,
     "metadata": {},
     "output_type": "execute_result"
    }
   ],
   "source": [
    "import pandas as pd\n",
    "df = pd.read_csv('/home/tbdbj/forest_test/marina_results_derev/qween_ds_1.csv', delimiter=',')\n",
    "df"
   ]
  },
  {
   "cell_type": "code",
   "execution_count": 71,
   "metadata": {},
   "outputs": [],
   "source": [
    "from typing import List\n",
    "import re\n",
    "\n",
    "class ReTextFinder:\n",
    "  def __init__(self, words_list: List[List[str]]):\n",
    "    self.__patterns = []\n",
    "    shift = 0\n",
    "    for words in words_list:\n",
    "      dict = {}\n",
    "      for i, word in enumerate(words):\n",
    "        dict[word] = shift + i\n",
    "      shift += len(words)\n",
    "      self.__patterns.append(\n",
    "        (\n",
    "          dict,\n",
    "          re.compile(\n",
    "            \"(%s)\" % \"|\".join(\n",
    "              map(re.escape, sorted([w+' ' for w in words], key=lambda s: len(s), reverse=True))\n",
    "            )\n",
    "          )\n",
    "        )\n",
    "      )\n",
    "\n",
    "  def finditer(self, text:str):\n",
    "    hash = set()\n",
    "    text += ' '\n",
    "    for dict, patterns in self.__patterns:\n",
    "      for mo in patterns.finditer(text):\n",
    "        index = dict[mo.group()[:-1]]\n",
    "        if index in hash:\n",
    "          continue\n",
    "        hash.add(index)\n",
    "        yield index\n",
    "  \n",
    "  @property\n",
    "  def features(self)->List[str]:\n",
    "    return [k for d, _ in self.__patterns  for k, _ in d.items()]"
   ]
  },
  {
   "cell_type": "code",
   "execution_count": 91,
   "metadata": {},
   "outputs": [
    {
     "name": "stdout",
     "output_type": "stream",
     "text": [
      "2\n",
      "3\n",
      "7\n",
      "10\n"
     ]
    }
   ],
   "source": [
    "textfinder = ReTextFinder(\n",
    "                [[\"Ипотека\"], ['в ипотеку'], ['ипотека предоставляется', \"кредит\"], ['в кредит'], ['кредит предоставляется'], \n",
    "               [ \"жилищный кредит\",\"первоначальный взнос\",\"процентная ставка\"],[\"господдержка\"], ['с господдержкой', \n",
    "                'военная ипотека'], [\"ипотека для\"], [\"субсидированная ипотека\", \"Срок кредита\", \"застройщик берёт\",  \"на себя платежи\"], \n",
    "                ['займы выдаются', 'без открытия банковского'],['в выдаче займа', 'договора залога', 'платежи по ипотеке']])\n",
    "for i in textfinder.finditer(\"ипотека предоставляется первоначальный взнос с господдержкой кредит\"):\n",
    "  print(i)"
   ]
  },
  {
   "cell_type": "code",
   "execution_count": 90,
   "metadata": {},
   "outputs": [
    {
     "name": "stdout",
     "output_type": "stream",
     "text": [
      "8\n",
      "7\n",
      "13\n",
      "18\n"
     ]
    }
   ],
   "source": [
    "textfinder = ReTextFinder(\n",
    "                [[\"Ипотека\"], ['в ипотеку'], ['ипотека предоставляется', \"кредит\"], ['в кредит'], ['кредит предоставляется'], \n",
    "               [ \"жилищный кредит\",\"первоначальный взнос\",\"процентная ставка\"],[\"господдержка\"], ['с господдержкой', \n",
    "                'военная ипотека'], [\"ипотека для\"], [\"субсидированная ипотека\", \"Срок кредита\", \"застройщик берёт\",  \"на себя платежи\"], \n",
    "                ['займы выдаются', 'без открытия банковского'],['в выдаче займа', 'договора залога', 'платежи по ипотеке']])\n",
    "for i in textfinder.finditer(\"процентная ставка первоначальный взнос субсидированная ипотека без открытия банковского\"):\n",
    "  print(i)"
   ]
  },
  {
   "cell_type": "code",
   "execution_count": 81,
   "metadata": {},
   "outputs": [
    {
     "data": {
      "text/plain": [
       "['Ипотека',\n",
       " 'в ипотеку',\n",
       " 'ипотека предоставляется',\n",
       " 'кредит',\n",
       " 'в кредит',\n",
       " 'кредит предоставляется',\n",
       " 'жилищный кредит',\n",
       " 'первоначальный взнос',\n",
       " 'процентная ставка',\n",
       " 'господдержка',\n",
       " 'с господдержкой',\n",
       " 'военная ипотека',\n",
       " 'ипотека для',\n",
       " 'субсидированная ипотека',\n",
       " 'Срок кредита',\n",
       " 'застройщик берёт',\n",
       " 'на себя платежи',\n",
       " 'займы выдаются',\n",
       " 'без открытия банковского',\n",
       " 'в выдаче займа',\n",
       " 'договора залога',\n",
       " 'платежи по ипотеке']"
      ]
     },
     "execution_count": 81,
     "metadata": {},
     "output_type": "execute_result"
    }
   ],
   "source": [
    "textfinder.features"
   ]
  },
  {
   "cell_type": "code",
   "execution_count": null,
   "metadata": {},
   "outputs": [],
   "source": []
  }
 ],
 "metadata": {
  "kernelspec": {
   "display_name": ".venv",
   "language": "python",
   "name": "python3"
  },
  "language_info": {
   "codemirror_mode": {
    "name": "ipython",
    "version": 3
   },
   "file_extension": ".py",
   "mimetype": "text/x-python",
   "name": "python",
   "nbconvert_exporter": "python",
   "pygments_lexer": "ipython3",
   "version": "3.12.3"
  }
 },
 "nbformat": 4,
 "nbformat_minor": 2
}
